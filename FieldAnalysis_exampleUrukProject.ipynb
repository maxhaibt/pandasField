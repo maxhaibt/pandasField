{
 "cells": [
  {
   "cell_type": "code",
   "execution_count": 2,
   "metadata": {},
   "outputs": [],
   "source": [
    "from cmath import nan\n",
    "from math import isnan\n",
    "import difflib\n",
    "from tkinter.tix import COLUMN \n",
    "import pandas as pd\n",
    "import numpy as np\n",
    "import json\n",
    "from pathlib import Path\n",
    "import lib.pdfield as pdfield\n"
   ]
  },
  {
   "cell_type": "code",
   "execution_count": 3,
   "metadata": {},
   "outputs": [],
   "source": [
    "%reload_ext autoreload\n",
    "%autoreload 2\n",
    "\n",
    "### Setup connection to Field-database-server based on config.json file ###\n",
    "config = pdfield.loadconfigs('config\\config.json')\n",
    "api = pdfield.couchDB_APIs(config)"
   ]
  },
  {
   "cell_type": "code",
   "execution_count": 4,
   "metadata": {},
   "outputs": [
    {
     "name": "stdout",
     "output_type": "stream",
     "text": [
      "The database uruk contains 19904 docs.\n",
      "This is round 1offset : 0\n",
      "This is round 2offset : 10000\n",
      "19904\n",
      "['created', 'modified', '_id', '_rev', 'project', 'resource.identifier']\n"
     ]
    }
   ],
   "source": [
    "### Import all documents from Target Field-database ###\n",
    "targetDOCs= pdfield.getAllDocs(api)\n",
    "targetDF, docfields  = pdfield.allDocsToDf(targetDOCs)\n",
    "\n",
    "\n"
   ]
  },
  {
   "cell_type": "code",
   "execution_count": 17,
   "metadata": {},
   "outputs": [
    {
     "name": "stdout",
     "output_type": "stream",
     "text": [
      "Path: ['Find:default', 'valuelists', 'period']\n",
      "Value: periods-Uruk-1\n"
     ]
    }
   ],
   "source": [
    "%reload_ext autoreload\n",
    "%autoreload 2\n",
    "pd.options.display.max_columns = None\n",
    "configdict = targetDF[targetDF['id'] == 'configuration'].iloc[0]['forms']\n",
    "results = pdfield.fuzzy_search_with_value(configdict, 'periods-Uruk')\n",
    "if results:\n",
    "    path, value = results[0]\n",
    "    print(\"Path:\", path)\n",
    "    print(\"Value:\", value)\n",
    "else:\n",
    "    print(\"No matching key found.\")"
   ]
  },
  {
   "cell_type": "code",
   "execution_count": null,
   "metadata": {},
   "outputs": [],
   "source": [
    "        \n",
    "for name, group in df.groupby('period'):\n",
    "            for column in group.columns:\n",
    "                #print (column)\n",
    "                group.rename({ column : name + '.' + column }, axis='columns', inplace = True)\n",
    "            groupcount = group.count()\n",
    "            groupcount.rename(db + '.' + name, inplace = True)\n",
    "            groupcount = groupcount.where(lambda x : x!=0).dropna()\n",
    "            #groupcount = groupcount.where(lambda x : ~groupcount.keys().endswith('.identifier')).dropna()\n",
    "            #mergedf = mergedf.add(groupcount, fill_value=0)\n",
    "            #print(groupcount)\n",
    "            dbCount = dbCount.add(groupcount, fill_value=0)"
   ]
  },
  {
   "cell_type": "code",
   "execution_count": null,
   "metadata": {},
   "outputs": [],
   "source": [
    "fig, ax = plt.subplots()\n",
    "fig.set_size_inches(20, 120)\n",
    "ax.xaxis.tick_top()\n",
    "sns.color_palette('pastel', len(testdbs))\n",
    "#colors = {'milet':'red', 'heliopolis-project':'green', 'bogazkoy-hattusa':'blue', 'olympia_sht':'yellow', 'monte-turcisi-project':'orange', 'wuq18':'purple','pergamongrabung-1': 'grey', 'ayamonte':''}\n",
    "mergeDfT.plot.barh(xlabel=\"new x\", ylabel=\"new y\",stacked=True, color=sns.color_palette(cc.glasbey, len(testdbs)), fontsize=8, ax=ax)\n",
    "#sns.plotbarh(xlabel=\"new x\", ylabel=\"new y\", data = mergeDfT, stacked=True, fontsize=6, ax=ax)\n",
    "fig.savefig('C:/Users/mhaibt/Documents/evalIdaiField/test2png.png', dpi=150)\n",
    "#ax.set_xticklabels(fontsize = 10)\n",
    "#plt.show()"
   ]
  }
 ],
 "metadata": {
  "kernelspec": {
   "display_name": "Python 3.8.5 ('accessidaifield')",
   "language": "python",
   "name": "python3"
  },
  "language_info": {
   "codemirror_mode": {
    "name": "ipython",
    "version": 3
   },
   "file_extension": ".py",
   "mimetype": "text/x-python",
   "name": "python",
   "nbconvert_exporter": "python",
   "pygments_lexer": "ipython3",
   "version": "3.8.5"
  },
  "orig_nbformat": 4,
  "vscode": {
   "interpreter": {
    "hash": "10c33de7b628476e462a2e3318cbd1f752b8da65d7799286a80a558fcb49b004"
   }
  }
 },
 "nbformat": 4,
 "nbformat_minor": 2
}
